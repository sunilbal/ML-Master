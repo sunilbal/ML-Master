{
  "nbformat": 4,
  "nbformat_minor": 0,
  "metadata": {
    "colab": {
      "name": "Assignment1.ipynb",
      "provenance": [],
      "collapsed_sections": []
    },
    "kernelspec": {
      "name": "python3",
      "display_name": "Python 3"
    }
  },
  "cells": [
    {
      "cell_type": "markdown",
      "metadata": {
        "id": "5pyUqPOvzsZ1",
        "colab_type": "text"
      },
      "source": [
        "**Divisible by 7 but are not a multiple of 5, between 2000 and 3200 (both included)**"
      ]
    },
    {
      "cell_type": "code",
      "metadata": {
        "id": "-JM2sUF3jq9O",
        "colab_type": "code",
        "outputId": "8122cb7d-7d0b-41e5-aee9-a45dbdfa1313",
        "colab": {
          "base_uri": "https://localhost:8080/",
          "height": 54
        }
      },
      "source": [
        "\n",
        "        \n",
        "for  n in range(2000,3201):        \n",
        "     if  n%7 == 0 and n%5 != 0:\n",
        "           print((n),end=',')\n"
      ],
      "execution_count": 0,
      "outputs": [
        {
          "output_type": "stream",
          "text": [
            "2002,2009,2016,2023,2037,2044,2051,2058,2072,2079,2086,2093,2107,2114,2121,2128,2142,2149,2156,2163,2177,2184,2191,2198,2212,2219,2226,2233,2247,2254,2261,2268,2282,2289,2296,2303,2317,2324,2331,2338,2352,2359,2366,2373,2387,2394,2401,2408,2422,2429,2436,2443,2457,2464,2471,2478,2492,2499,2506,2513,2527,2534,2541,2548,2562,2569,2576,2583,2597,2604,2611,2618,2632,2639,2646,2653,2667,2674,2681,2688,2702,2709,2716,2723,2737,2744,2751,2758,2772,2779,2786,2793,2807,2814,2821,2828,2842,2849,2856,2863,2877,2884,2891,2898,2912,2919,2926,2933,2947,2954,2961,2968,2982,2989,2996,3003,3017,3024,3031,3038,3052,3059,3066,3073,3087,3094,3101,3108,3122,3129,3136,3143,3157,3164,3171,3178,3192,3199,"
          ],
          "name": "stdout"
        }
      ]
    },
    {
      "cell_type": "markdown",
      "metadata": {
        "id": "zUuu8Ms5y8QN",
        "colab_type": "text"
      },
      "source": [
        "**Write a Python program to accept the user's first and last name and then getting them printed in the the reverse order with a space between first name and last name.**"
      ]
    },
    {
      "cell_type": "code",
      "metadata": {
        "id": "1Z-6aZWjzccg",
        "colab_type": "code",
        "outputId": "29bf462e-8319-4538-814c-ec16b2a08e12",
        "colab": {
          "base_uri": "https://localhost:8080/",
          "height": 68
        }
      },
      "source": [
        "First_Name = input(\"Input your First Name : \")\n",
        "Last_Name =input(\"Input your last Name : \")\n",
        "print (First_Name[::-1]+\" \"+Last_Name[::-1])"
      ],
      "execution_count": 0,
      "outputs": [
        {
          "output_type": "stream",
          "text": [
            "Input your First Name : Sunil\n",
            "Input your last Name : Bal\n",
            "linuS laB\n"
          ],
          "name": "stdout"
        }
      ]
    },
    {
      "cell_type": "markdown",
      "metadata": {
        "id": "HHtNHjwIytax",
        "colab_type": "text"
      },
      "source": [
        "**Write a Python program to find the volume of a sphere with diameter 12 cm.**"
      ]
    },
    {
      "cell_type": "code",
      "metadata": {
        "id": "br9aKxZpolyG",
        "colab_type": "code",
        "outputId": "fecd57fb-f5f7-490d-fff7-a8868f75b5d7",
        "colab": {
          "base_uri": "https://localhost:8080/",
          "height": 34
        }
      },
      "source": [
        "\n",
        "pi = 3.1415926535897931\n",
        "r= 12.0/2\n",
        "V= 4.0/3.0*pi* r**3\n",
        "print('The volume of the sphere is: ',V)"
      ],
      "execution_count": 1,
      "outputs": [
        {
          "output_type": "stream",
          "text": [
            "The volume of the sphere is:  904.7786842338603\n"
          ],
          "name": "stdout"
        }
      ]
    },
    {
      "cell_type": "code",
      "metadata": {
        "id": "DF8PuGIAbm7B",
        "colab_type": "code",
        "colab": {}
      },
      "source": [
        ""
      ],
      "execution_count": 0,
      "outputs": []
    }
  ]
}